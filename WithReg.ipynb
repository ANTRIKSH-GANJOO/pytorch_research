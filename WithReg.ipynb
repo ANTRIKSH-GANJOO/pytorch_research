{
  "nbformat": 4,
  "nbformat_minor": 0,
  "metadata": {
    "colab": {
      "provenance": [],
      "authorship_tag": "ABX9TyMKiX75HtrWW3Z/F+ToUQl9",
      "include_colab_link": true
    },
    "kernelspec": {
      "name": "python3",
      "display_name": "Python 3"
    },
    "language_info": {
      "name": "python"
    }
  },
  "cells": [
    {
      "cell_type": "markdown",
      "metadata": {
        "id": "view-in-github",
        "colab_type": "text"
      },
      "source": [
        "<a href=\"https://colab.research.google.com/github/ANTRIKSH-GANJOO/pytorch_research/blob/main/WithReg.ipynb\" target=\"_parent\"><img src=\"https://colab.research.google.com/assets/colab-badge.svg\" alt=\"Open In Colab\"/></a>"
      ]
    },
    {
      "cell_type": "code",
      "execution_count": 1,
      "metadata": {
        "id": "eQgjMInugK1J"
      },
      "outputs": [],
      "source": [
        "import torch\n",
        "import torchvision\n",
        "import torchvision.transforms as transforms"
      ]
    },
    {
      "cell_type": "code",
      "source": [
        "transform = transforms.Compose(\n",
        "    [transforms.ToTensor(),\n",
        "     transforms.Normalize((0.5, 0.5, 0.5), (0.5, 0.5, 0.5))])\n",
        "\n",
        "batch_size = 4\n",
        "\n",
        "trainset = torchvision.datasets.CIFAR10(root='./data', train=True,\n",
        "                                        download=True, transform=transform)\n",
        "trainloader = torch.utils.data.DataLoader(trainset, batch_size=batch_size,\n",
        "                                          shuffle=True, num_workers=2)\n",
        "\n",
        "testset = torchvision.datasets.CIFAR10(root='./data', train=False,\n",
        "                                       download=True, transform=transform)\n",
        "testloader = torch.utils.data.DataLoader(testset, batch_size=batch_size,\n",
        "                                         shuffle=False, num_workers=2)\n",
        "\n",
        "classes = ('plane', 'car', 'bird', 'cat',\n",
        "           'deer', 'dog', 'frog', 'horse', 'ship', 'truck')"
      ],
      "metadata": {
        "colab": {
          "base_uri": "https://localhost:8080/"
        },
        "id": "Fv1F6fNYgU78",
        "outputId": "b4e0bd89-25ca-4c48-fc0c-9c430e65a9c0"
      },
      "execution_count": 2,
      "outputs": [
        {
          "output_type": "stream",
          "name": "stdout",
          "text": [
            "Downloading https://www.cs.toronto.edu/~kriz/cifar-10-python.tar.gz to ./data/cifar-10-python.tar.gz\n"
          ]
        },
        {
          "output_type": "stream",
          "name": "stderr",
          "text": [
            "100%|██████████| 170498071/170498071 [00:01<00:00, 98454991.39it/s]\n"
          ]
        },
        {
          "output_type": "stream",
          "name": "stdout",
          "text": [
            "Extracting ./data/cifar-10-python.tar.gz to ./data\n",
            "Files already downloaded and verified\n"
          ]
        }
      ]
    },
    {
      "cell_type": "code",
      "source": [
        "import matplotlib.pyplot as plt\n",
        "import numpy as np"
      ],
      "metadata": {
        "id": "QzgzLY42gkQo"
      },
      "execution_count": 3,
      "outputs": []
    },
    {
      "cell_type": "code",
      "source": [
        "def imshow(img):\n",
        "    img = img / 2 + 0.5     # unnormalize\n",
        "    npimg = img.numpy()\n",
        "    plt.imshow(np.transpose(npimg, (1, 2, 0)))\n",
        "    plt.show()\n",
        "\n",
        "\n",
        "# get some random training images\n",
        "dataiter = iter(trainloader)\n",
        "images, labels = next(dataiter)\n",
        "\n",
        "# show images\n",
        "imshow(torchvision.utils.make_grid(images))\n",
        "# print labels\n",
        "print(' '.join(f'{classes[labels[j]]:5s}' for j in range(batch_size)))"
      ],
      "metadata": {
        "colab": {
          "base_uri": "https://localhost:8080/",
          "height": 267
        },
        "id": "qPw0SnnIgpyg",
        "outputId": "a7382f89-681c-446c-c8c7-086ff21dc57f"
      },
      "execution_count": 4,
      "outputs": [
        {
          "output_type": "stream",
          "name": "stderr",
          "text": [
            "/usr/lib/python3.10/multiprocessing/popen_fork.py:66: RuntimeWarning: os.fork() was called. os.fork() is incompatible with multithreaded code, and JAX is multithreaded, so this will likely lead to a deadlock.\n",
            "  self.pid = os.fork()\n"
          ]
        },
        {
          "output_type": "display_data",
          "data": {
            "text/plain": [
              "<Figure size 640x480 with 1 Axes>"
            ],
            "image/png": "[encoded data removed]"
          },
          "metadata": {}
        },
        {
          "output_type": "stream",
          "name": "stdout",
          "text": [
            "deer  car   car   ship \n"
          ]
        }
      ]
    },
    {
      "cell_type": "code",
      "source": [
        "import torch\n",
        "import torch.nn as nn\n",
        "import torch.nn.functional as F\n",
        "\n",
        "class ResidualBlock(nn.Module):\n",
        "    def __init__(self, inchannel, outchannel, stride=1):\n",
        "        super(ResidualBlock, self).__init__()\n",
        "        self.left = nn.Sequential(\n",
        "            nn.Conv2d(inchannel, outchannel, kernel_size=3, stride=stride, padding=1, bias=False),\n",
        "            nn.BatchNorm2d(outchannel),\n",
        "            nn.ReLU(inplace=True),\n",
        "            nn.Conv2d(outchannel, outchannel, kernel_size=3, stride=1, padding=1, bias=False),\n",
        "            nn.BatchNorm2d(outchannel)\n",
        "        )\n",
        "        self.shortcut = nn.Sequential()\n",
        "        if stride != 1 or inchannel != outchannel:\n",
        "            self.shortcut = nn.Sequential(\n",
        "                nn.Conv2d(inchannel, outchannel, kernel_size=1, stride=stride, bias=False),\n",
        "                nn.BatchNorm2d(outchannel)\n",
        "            )\n",
        "\n",
        "    def forward(self, x):\n",
        "        out = self.left(x)\n",
        "        out += self.shortcut(x)\n",
        "        out = F.relu(out)\n",
        "        return out\n",
        "\n",
        "class ResNet(nn.Module):\n",
        "    def __init__(self, ResidualBlock, num_classes=10):\n",
        "        super(ResNet, self).__init__()\n",
        "        self.inchannel = 64\n",
        "        self.conv1 = nn.Sequential(\n",
        "            nn.Conv2d(3, 64, kernel_size=3, stride=1, padding=1, bias=False),\n",
        "            nn.BatchNorm2d(64),\n",
        "            nn.ReLU(),\n",
        "        )\n",
        "        self.layer1 = self.make_layer(ResidualBlock, 64,  2, stride=1)\n",
        "        self.layer2 = self.make_layer(ResidualBlock, 128, 2, stride=2)\n",
        "        self.layer3 = self.make_layer(ResidualBlock, 256, 2, stride=2)\n",
        "        self.layer4 = self.make_layer(ResidualBlock, 512, 2, stride=2)\n",
        "        self.fc = nn.Linear(512, num_classes)\n",
        "\n",
        "    def make_layer(self, block, channels, num_blocks, stride):\n",
        "        strides = [stride] + [1] * (num_blocks - 1)   #strides=[1,1]\n",
        "        layers = []\n",
        "        for stride in strides:\n",
        "            layers.append(block(self.inchannel, channels, stride))\n",
        "            self.inchannel = channels\n",
        "        return nn.Sequential(*layers)\n",
        "\n",
        "\n",
        "    def forward(self, x):\n",
        "        out = self.conv1(x)\n",
        "        flat_out = [p.flatten() for p in out]\n",
        "        # Calculate the sum of L1 norms\n",
        "        sum_l1_norm = sum(torch.linalg.norm(p, 1) for p in flat_out)\n",
        "        # Calculate the sum of squared L2 norms\n",
        "        sum_squared_l2_norm = sum(p.pow(2).sum() for p in flat_out)\n",
        "        # Calculate the quotient\n",
        "        quotient = sum_l1_norm / sum_squared_l2_norm\n",
        "        # Calculate the final result\n",
        "        result = 2 ** quotient\n",
        "        reg = result\n",
        "        out = self.layer1(out)\n",
        "        flat_out = [p.flatten() for p in out]\n",
        "        sum_l1_norm = sum(torch.linalg.norm(p, 1) for p in flat_out)\n",
        "        # Calculate the sum of squared L2 norms\n",
        "        sum_squared_l2_norm = sum(p.pow(2).sum() for p in flat_out)\n",
        "        # Calculate the quotient\n",
        "        quotient = sum_l1_norm / sum_squared_l2_norm\n",
        "        # Calculate the final result\n",
        "        result = 2 ** quotient\n",
        "        reg = reg + result\n",
        "        out = self.layer2(out)\n",
        "        flat_out = [p.flatten() for p in out]\n",
        "        sum_l1_norm = sum(torch.linalg.norm(p, 1) for p in flat_out)\n",
        "        # Calculate the sum of squared L2 norms\n",
        "        sum_squared_l2_norm = sum(p.pow(2).sum() for p in flat_out)\n",
        "        # Calculate the quotient\n",
        "        quotient = sum_l1_norm / sum_squared_l2_norm\n",
        "        # Calculate the final result\n",
        "        result = 2 ** quotient\n",
        "        reg = reg + result\n",
        "        out = self.layer3(out)\n",
        "        flat_out = [p.flatten() for p in out]\n",
        "        flat_out = [p.flatten() for p in out]\n",
        "        sum_l1_norm = sum(torch.linalg.norm(p, 1) for p in flat_out)\n",
        "        # Calculate the sum of squared L2 norms\n",
        "        sum_squared_l2_norm = sum(p.pow(2).sum() for p in flat_out)\n",
        "        # Calculate the quotient\n",
        "        quotient = sum_l1_norm / sum_squared_l2_norm\n",
        "        # Calculate the final result\n",
        "        result = 2 ** quotient\n",
        "        reg = reg + result\n",
        "        out = self.layer4(out)\n",
        "        flat_out = [p.flatten() for p in out]\n",
        "        sum_l1_norm = sum(torch.linalg.norm(p, 1) for p in flat_out)\n",
        "        # Calculate the sum of squared L2 norms\n",
        "        sum_squared_l2_norm = sum(p.pow(2).sum() for p in flat_out)\n",
        "        # Calculate the quotient\n",
        "        quotient = sum_l1_norm / sum_squared_l2_norm\n",
        "        # Calculate the final result\n",
        "        result = 2 ** quotient\n",
        "        reg = reg + result\n",
        "        out = F.avg_pool2d(out, 4)\n",
        "        out = out.view(out.size(0), -1)\n",
        "        out = self.fc(out)\n",
        "        return out,reg\n",
        "\n",
        "\n",
        "def ResNet18():\n",
        "\n",
        "    return ResNet(ResidualBlock)\n",
        "\n",
        "my_net = ResNet18()"
      ],
      "metadata": {
        "id": "N0mgR5ABgt8R"
      },
      "execution_count": 13,
      "outputs": []
    },
    {
      "cell_type": "code",
      "source": [
        "import torch.optim as optim\n",
        "\n",
        "criterion = nn.CrossEntropyLoss()\n",
        "optimizer = optim.SGD(my_net.parameters(), lr=0.001, momentum=0.9)"
      ],
      "metadata": {
        "id": "MabGc4lCp7oc"
      },
      "execution_count": 11,
      "outputs": []
    },
    {
      "cell_type": "code",
      "source": [
        "# Training the Neural Network\n",
        "\n",
        "for epoch in range(1):  # loop over the dataset multiple times\n",
        "\n",
        "    running_loss = 0.0\n",
        "    for i, data in enumerate(trainloader, 0):\n",
        "        # get the inputs; data is a list of [inputs, labels]\n",
        "        inputs, labels = data\n",
        "\n",
        "        # zero the parameter gradients\n",
        "        optimizer.zero_grad()\n",
        "\n",
        "        # forward + backward + optimize\n",
        "        outputs,reg = my_net(inputs)\n",
        "        loss = criterion(outputs, labels)\n",
        "        c = loss + reg\n",
        "        c.backward()\n",
        "        optimizer.step()\n",
        "\n",
        "        # print statistics\n",
        "        running_loss += c.item()\n",
        "        if i % 2000 == 1999:    # print every 2000 mini-batches\n",
        "            print(f'[{epoch + 1}, {i + 1:5d}] loss: {running_loss / 2000:.3f}')\n",
        "            running_loss = 0.0\n",
        "\n",
        "print('Finished Training')"
      ],
      "metadata": {
        "colab": {
          "base_uri": "https://localhost:8080/"
        },
        "id": "3g4P4-Ztp_2k",
        "outputId": "0fb194c2-f567-4dc4-c74f-c1dc86f39fb1"
      },
      "execution_count": 16,
      "outputs": [
        {
          "output_type": "stream",
          "name": "stdout",
          "text": [
            "[1,  2000] loss: 9.737\n",
            "[1,  4000] loss: 9.730\n",
            "[1,  6000] loss: 9.728\n",
            "[1,  8000] loss: 9.731\n",
            "[1, 10000] loss: 9.724\n",
            "[1, 12000] loss: 9.732\n",
            "Finished Training\n"
          ]
        }
      ]
    }
  ]
}